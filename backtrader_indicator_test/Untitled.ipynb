{
 "cells": [
  {
   "cell_type": "code",
   "execution_count": 1,
   "id": "d9789d5b",
   "metadata": {},
   "outputs": [],
   "source": [
    "import pandas as pd\n",
    "import matplotlib.pyplot as plt"
   ]
  },
  {
   "cell_type": "code",
   "execution_count": 3,
   "id": "489123d3",
   "metadata": {},
   "outputs": [],
   "source": [
    "df = pd.read_csv(\"../../data/BITSTAMP_BTCUSD_HOUR.csv\", parse_dates=True)"
   ]
  },
  {
   "cell_type": "code",
   "execution_count": 4,
   "id": "28d1a04e",
   "metadata": {},
   "outputs": [
    {
     "data": {
      "text/html": [
       "<div>\n",
       "<style scoped>\n",
       "    .dataframe tbody tr th:only-of-type {\n",
       "        vertical-align: middle;\n",
       "    }\n",
       "\n",
       "    .dataframe tbody tr th {\n",
       "        vertical-align: top;\n",
       "    }\n",
       "\n",
       "    .dataframe thead th {\n",
       "        text-align: right;\n",
       "    }\n",
       "</style>\n",
       "<table border=\"1\" class=\"dataframe\">\n",
       "  <thead>\n",
       "    <tr style=\"text-align: right;\">\n",
       "      <th></th>\n",
       "      <th>Unix</th>\n",
       "      <th>Date</th>\n",
       "      <th>Symbol</th>\n",
       "      <th>Open</th>\n",
       "      <th>High</th>\n",
       "      <th>Low</th>\n",
       "      <th>Close</th>\n",
       "      <th>Volume BTC</th>\n",
       "      <th>Volume USD</th>\n",
       "    </tr>\n",
       "  </thead>\n",
       "  <tbody>\n",
       "    <tr>\n",
       "      <th>0</th>\n",
       "      <td>1659657600</td>\n",
       "      <td>2022-08-05 00:00:00</td>\n",
       "      <td>BTC/USD</td>\n",
       "      <td>22630.14</td>\n",
       "      <td>22690.50</td>\n",
       "      <td>22587.94</td>\n",
       "      <td>22678.78</td>\n",
       "      <td>15.517403</td>\n",
       "      <td>3.519158e+05</td>\n",
       "    </tr>\n",
       "    <tr>\n",
       "      <th>1</th>\n",
       "      <td>1659654000</td>\n",
       "      <td>2022-08-04 23:00:00</td>\n",
       "      <td>BTC/USD</td>\n",
       "      <td>22642.05</td>\n",
       "      <td>22675.53</td>\n",
       "      <td>22581.82</td>\n",
       "      <td>22615.24</td>\n",
       "      <td>17.129344</td>\n",
       "      <td>3.873842e+05</td>\n",
       "    </tr>\n",
       "    <tr>\n",
       "      <th>2</th>\n",
       "      <td>1659650400</td>\n",
       "      <td>2022-08-04 22:00:00</td>\n",
       "      <td>BTC/USD</td>\n",
       "      <td>22505.65</td>\n",
       "      <td>22647.64</td>\n",
       "      <td>22462.88</td>\n",
       "      <td>22638.48</td>\n",
       "      <td>12.330823</td>\n",
       "      <td>2.791511e+05</td>\n",
       "    </tr>\n",
       "    <tr>\n",
       "      <th>3</th>\n",
       "      <td>1659646800</td>\n",
       "      <td>2022-08-04 21:00:00</td>\n",
       "      <td>BTC/USD</td>\n",
       "      <td>22521.12</td>\n",
       "      <td>22560.88</td>\n",
       "      <td>22485.00</td>\n",
       "      <td>22505.65</td>\n",
       "      <td>25.948864</td>\n",
       "      <td>5.839960e+05</td>\n",
       "    </tr>\n",
       "    <tr>\n",
       "      <th>4</th>\n",
       "      <td>1659643200</td>\n",
       "      <td>2022-08-04 20:00:00</td>\n",
       "      <td>BTC/USD</td>\n",
       "      <td>22479.30</td>\n",
       "      <td>22568.00</td>\n",
       "      <td>22467.35</td>\n",
       "      <td>22520.50</td>\n",
       "      <td>68.148921</td>\n",
       "      <td>1.534748e+06</td>\n",
       "    </tr>\n",
       "  </tbody>\n",
       "</table>\n",
       "</div>"
      ],
      "text/plain": [
       "         Unix                 Date   Symbol      Open      High       Low  \\\n",
       "0  1659657600  2022-08-05 00:00:00  BTC/USD  22630.14  22690.50  22587.94   \n",
       "1  1659654000  2022-08-04 23:00:00  BTC/USD  22642.05  22675.53  22581.82   \n",
       "2  1659650400  2022-08-04 22:00:00  BTC/USD  22505.65  22647.64  22462.88   \n",
       "3  1659646800  2022-08-04 21:00:00  BTC/USD  22521.12  22560.88  22485.00   \n",
       "4  1659643200  2022-08-04 20:00:00  BTC/USD  22479.30  22568.00  22467.35   \n",
       "\n",
       "      Close  Volume BTC    Volume USD  \n",
       "0  22678.78   15.517403  3.519158e+05  \n",
       "1  22615.24   17.129344  3.873842e+05  \n",
       "2  22638.48   12.330823  2.791511e+05  \n",
       "3  22505.65   25.948864  5.839960e+05  \n",
       "4  22520.50   68.148921  1.534748e+06  "
      ]
     },
     "execution_count": 4,
     "metadata": {},
     "output_type": "execute_result"
    }
   ],
   "source": [
    "df.head()"
   ]
  },
  {
   "cell_type": "code",
   "execution_count": 8,
   "id": "0d3a55ee",
   "metadata": {},
   "outputs": [
    {
     "data": {
      "text/plain": [
       "Unix          0\n",
       "Date          0\n",
       "Symbol        0\n",
       "Open          0\n",
       "High          0\n",
       "Low           0\n",
       "Close         0\n",
       "Volume BTC    0\n",
       "Volume USD    0\n",
       "dtype: int64"
      ]
     },
     "execution_count": 8,
     "metadata": {},
     "output_type": "execute_result"
    }
   ],
   "source": [
    "df.isnull().sum()"
   ]
  }
 ],
 "metadata": {
  "kernelspec": {
   "display_name": "Python 3 (ipykernel)",
   "language": "python",
   "name": "python3"
  },
  "language_info": {
   "codemirror_mode": {
    "name": "ipython",
    "version": 3
   },
   "file_extension": ".py",
   "mimetype": "text/x-python",
   "name": "python",
   "nbconvert_exporter": "python",
   "pygments_lexer": "ipython3",
   "version": "3.10.5"
  }
 },
 "nbformat": 4,
 "nbformat_minor": 5
}
