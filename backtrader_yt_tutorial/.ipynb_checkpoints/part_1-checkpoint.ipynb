{
 "cells": [
  {
   "cell_type": "code",
   "execution_count": 5,
   "id": "922a3f01",
   "metadata": {},
   "outputs": [
    {
     "name": "stdout",
     "output_type": "stream",
     "text": [
      "Starting portfolio Value: 1000000.00\n",
      "Final portfolio Value: 1000000.00\n"
     ]
    }
   ],
   "source": [
    "import backtrader\n",
    "import datetime\n",
    "from strategies import TestStrategy\n",
    "\n",
    "cerebro = backtrader.Cerebro()\n",
    "\n",
    "cerebro.broker.set_cash(1000000)\n",
    "\n",
    "data = backtrader.feeds.YahooFinanceCSVData(\n",
    "    dataname='data/oracle.csv',\n",
    "    fromdate=datetime.datetime(1995, 01, 03),\n",
    "    todate=datetime.datetime(2014, 12, 31),\n",
    "    reverse=False\n",
    ")\n",
    "\n",
    "cerebro.adddata(data)\n",
    "\n",
    "cerebro.addstrategy(TestStrategy)\n",
    "\n",
    "print('Starting portfolio Value: %.2f' % cerebro.broker.getvalue())\n",
    "\n",
    "cerebro.run()\n",
    "\n",
    "#Strategy\n",
    "\n",
    "print('Final portfolio Value: %.2f' % cerebro.broker.getvalue())"
   ]
  }
 ],
 "metadata": {
  "kernelspec": {
   "display_name": "Python 3 (ipykernel)",
   "language": "python",
   "name": "python3"
  },
  "language_info": {
   "codemirror_mode": {
    "name": "ipython",
    "version": 3
   },
   "file_extension": ".py",
   "mimetype": "text/x-python",
   "name": "python",
   "nbconvert_exporter": "python",
   "pygments_lexer": "ipython3",
   "version": "3.10.5"
  }
 },
 "nbformat": 4,
 "nbformat_minor": 5
}
